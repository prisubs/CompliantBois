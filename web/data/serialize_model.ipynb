{
 "cells": [
  {
   "cell_type": "code",
   "execution_count": 4,
   "metadata": {},
   "outputs": [],
   "source": [
    "# takes in a model object\n",
    "# writes it out to a PKL file\n",
    "def pickle_up(model, filepath):\n",
    "    # save the classifier\n",
    "    with open(filepath, 'wb') as fid:\n",
    "        cPickle.dump(model, fid) \n",
    "    print(\"saved model to {0}\".format(filepath))\n",
    "        \n",
    "def pickle_down(filepath):\n",
    "    # load it again\n",
    "    with open(filepath, 'rb') as fid:\n",
    "        model_loaded = cPickle.load(fid)\n",
    "    return model_loaded"
   ]
  }
 ],
 "metadata": {
  "kernelspec": {
   "display_name": "Python 3",
   "language": "python",
   "name": "python3"
  },
  "language_info": {
   "codemirror_mode": {
    "name": "ipython",
    "version": 3
   },
   "file_extension": ".py",
   "mimetype": "text/x-python",
   "name": "python",
   "nbconvert_exporter": "python",
   "pygments_lexer": "ipython3",
   "version": "3.7.2"
  }
 },
 "nbformat": 4,
 "nbformat_minor": 2
}
