{
 "cells": [
  {
   "cell_type": "code",
   "execution_count": 1,
   "metadata": {},
   "outputs": [],
   "source": [
    "from backend import *\n",
    "import pandas as pd\n",
    "import datetime"
   ]
  },
  {
   "cell_type": "code",
   "execution_count": 2,
   "metadata": {},
   "outputs": [
    {
     "data": {
      "text/html": [
       "<div>\n",
       "<style scoped>\n",
       "    .dataframe tbody tr th:only-of-type {\n",
       "        vertical-align: middle;\n",
       "    }\n",
       "\n",
       "    .dataframe tbody tr th {\n",
       "        vertical-align: top;\n",
       "    }\n",
       "\n",
       "    .dataframe thead th {\n",
       "        text-align: right;\n",
       "    }\n",
       "</style>\n",
       "<table border=\"1\" class=\"dataframe\">\n",
       "  <thead>\n",
       "    <tr style=\"text-align: right;\">\n",
       "      <th></th>\n",
       "      <th>Start</th>\n",
       "      <th>End</th>\n",
       "      <th>sentiment</th>\n",
       "      <th>sentiment_test</th>\n",
       "      <th>indico_sentiment</th>\n",
       "      <th>bad_bag</th>\n",
       "      <th>good_bag</th>\n",
       "      <th>lastweek</th>\n",
       "      <th>headlines</th>\n",
       "      <th>absolute_change</th>\n",
       "      <th>macro_direction</th>\n",
       "      <th>price</th>\n",
       "    </tr>\n",
       "  </thead>\n",
       "  <tbody>\n",
       "    <tr>\n",
       "      <th>0</th>\n",
       "      <td>2019-08-01</td>\n",
       "      <td>2019-08-07</td>\n",
       "      <td>0.126555</td>\n",
       "      <td>0.10345</td>\n",
       "      <td>0.72701</td>\n",
       "      <td>0.000007</td>\n",
       "      <td>0.000021</td>\n",
       "      <td>199.75</td>\n",
       "      <td>[FTC Goes 1 For 2: Equifax Board That Did Not ...</td>\n",
       "      <td>0</td>\n",
       "      <td>0</td>\n",
       "      <td>194.23</td>\n",
       "    </tr>\n",
       "  </tbody>\n",
       "</table>\n",
       "</div>"
      ],
      "text/plain": [
       "        Start         End  sentiment  sentiment_test  indico_sentiment  \\\n",
       "0  2019-08-01  2019-08-07   0.126555         0.10345           0.72701   \n",
       "\n",
       "    bad_bag  good_bag  lastweek  \\\n",
       "0  0.000007  0.000021    199.75   \n",
       "\n",
       "                                           headlines  absolute_change  \\\n",
       "0  [FTC Goes 1 For 2: Equifax Board That Did Not ...                0   \n",
       "\n",
       "   macro_direction   price  \n",
       "0                0  194.23  "
      ]
     },
     "execution_count": 2,
     "metadata": {},
     "output_type": "execute_result"
    }
   ],
   "source": [
    "today = datetime.date.today()\n",
    "df = pipeline_linear(\"fb\", today, dyn=True)\n",
    "df.head()"
   ]
  },
  {
   "cell_type": "code",
   "execution_count": null,
   "metadata": {},
   "outputs": [],
   "source": [
    "future_runner(\"fb\")"
   ]
  }
 ],
 "metadata": {
  "kernelspec": {
   "display_name": "Python 3",
   "language": "python",
   "name": "python3"
  },
  "language_info": {
   "codemirror_mode": {
    "name": "ipython",
    "version": 3
   },
   "file_extension": ".py",
   "mimetype": "text/x-python",
   "name": "python",
   "nbconvert_exporter": "python",
   "pygments_lexer": "ipython3",
   "version": "3.7.2"
  }
 },
 "nbformat": 4,
 "nbformat_minor": 2
}
