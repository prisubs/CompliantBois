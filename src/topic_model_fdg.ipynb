{
 "cells": [
  {
   "cell_type": "code",
   "execution_count": 40,
   "metadata": {},
   "outputs": [],
   "source": [
    "import pandas as pd\n",
    "import numpy as np\n",
    "\n",
    "import nltk\n",
    "from nltk.tokenize import word_tokenize\n",
    "from nltk.stem import PorterStemmer, WordNetLemmatizer, SnowballStemmer\n",
    "from nltk.stem.porter import *\n",
    "from nltk.corpus import stopwords\n",
    "\n",
    "from sklearn.cluster import KMeans\n",
    "from sklearn.feature_extraction.text import CountVectorizer, ENGLISH_STOP_WORDS, TfidfVectorizer\n",
    "\n",
    "import gensim\n",
    "from gensim.utils import simple_preprocess\n",
    "from gensim.parsing.preprocessing import STOPWORDS\n",
    "from gensim import corpora, models"
   ]
  },
  {
   "cell_type": "markdown",
   "metadata": {},
   "source": [
    "> organize the text into two topics, plot cosine similarities betwen vectorized keywords"
   ]
  },
  {
   "cell_type": "code",
   "execution_count": 41,
   "metadata": {},
   "outputs": [],
   "source": [
    "text = pd.Series([\n",
    "    \"Stretched Growth Story Casts a Shadow on AAPL Stock\",\n",
    "    \"Apple (NASDAQ:AAPL) Earning Somewhat Favorable Media Coverage, Analysis Shows\",\n",
    "    \"Flat Affect: Markets Tread Water With Fed, Other Central Bank Meetings Ahead\",\n",
    "    \"Yes, Apple Stock Can Make New Highs This Year\",\n",
    "    \"U.S. Investment Analyst is Upbeat on Apple's upcoming Q3 Financials, citing strong service revenues & Growth in China\",\n",
    "    \"Apple (AAPL) Outpaces Stock Market Gains: What You Should Know\",\n",
    "    \"In Case The Bears Are Right About Apple\",\n",
    "    \"Microsoft says its Teams app is bigger than Slack and growing faster\",\n",
    "    \"The Slackification of the American Home\",\n",
    "    \"Here are the biggest analyst calls of the day: Slack, Zoom, Morgan Stanley & more\",\n",
    "    \"If Slack is so good, why are so many companies trying to fix it?\"\n",
    "])"
   ]
  },
  {
   "cell_type": "code",
   "execution_count": 42,
   "metadata": {},
   "outputs": [],
   "source": [
    "def download_packages():\n",
    "    import nltk\n",
    "    import ssl\n",
    "\n",
    "    try:\n",
    "        _create_unverified_https_context = ssl._create_unverified_context\n",
    "    except AttributeError:\n",
    "        pass\n",
    "    else:\n",
    "        ssl._create_default_https_context = _create_unverified_https_context\n",
    "\n",
    "    nltk.download(\"wordnet\")"
   ]
  },
  {
   "cell_type": "code",
   "execution_count": 43,
   "metadata": {},
   "outputs": [
    {
     "name": "stdout",
     "output_type": "stream",
     "text": [
      "[nltk_data] Downloading package wordnet to\n",
      "[nltk_data]     /Users/pansproperties/nltk_data...\n",
      "[nltk_data]   Package wordnet is already up-to-date!\n"
     ]
    }
   ],
   "source": [
    "download_packages()"
   ]
  },
  {
   "cell_type": "code",
   "execution_count": 44,
   "metadata": {},
   "outputs": [],
   "source": [
    "CUSTOM_STOPWORDS = ENGLISH_STOP_WORDS.union(\n",
    "    [\"like\"] # add more stopwords here as needed\n",
    ")\n",
    "\n",
    "def stem_func(text):\n",
    "    stemmer = SnowballStemmer('english')\n",
    "    return stemmer.stem(WordNetLemmatizer().lemmatize(text, pos='v'))\n",
    "\n",
    "def is_meaningful(token):\n",
    "    cond1 = token not in CUSTOM_STOPWORDS\n",
    "    cond2 = len(token) > 3\n",
    "    return cond1 and cond2\n",
    "\n",
    "def topic_prepare(text):\n",
    "    result, tokens = [], gensim.utils.simple_preprocess(text)\n",
    "    for token in tokens:\n",
    "        if is_meaningful(token):\n",
    "            result.append(stem_func(token))\n",
    "            #result.append(token)\n",
    "    return result"
   ]
  },
  {
   "cell_type": "code",
   "execution_count": 45,
   "metadata": {},
   "outputs": [],
   "source": [
    "text = text.apply(topic_prepare)"
   ]
  },
  {
   "cell_type": "code",
   "execution_count": 46,
   "metadata": {},
   "outputs": [],
   "source": [
    "dictionary = gensim.corpora.Dictionary(text)\n",
    "dictionary.filter_extremes(no_below=1, no_above=0.5, keep_n=1000)\n",
    "bow_dict = [dictionary.doc2bow(doc) for doc in text]"
   ]
  },
  {
   "cell_type": "code",
   "execution_count": 47,
   "metadata": {},
   "outputs": [],
   "source": [
    "tfidf = models.TfidfModel(bow_dict)\n",
    "corpus_tfidf = tfidf[bow_dict]\n",
    "lda_model = gensim.models.LdaMulticore(corpus_tfidf, num_topics = 5, id2word=dictionary, passes=2, workers=2)"
   ]
  },
  {
   "cell_type": "code",
   "execution_count": 48,
   "metadata": {},
   "outputs": [
    {
     "name": "stdout",
     "output_type": "stream",
     "text": [
      "topic 0 words 0.054*\"case\" + 0.053*\"bear\" + 0.053*\"right\" + 0.027*\"appl\" + 0.014*\"home\" + 0.014*\"slackif\" + 0.014*\"american\" + 0.014*\"slack\" + 0.014*\"stock\" + 0.014*\"good\" \n",
      "\n",
      "topic 1 words 0.039*\"american\" + 0.039*\"slackif\" + 0.039*\"home\" + 0.031*\"call\" + 0.031*\"morgan\" + 0.031*\"zoom\" + 0.031*\"stanley\" + 0.031*\"biggest\" + 0.028*\"media\" + 0.028*\"favor\" \n",
      "\n",
      "topic 2 words 0.044*\"market\" + 0.038*\"outpac\" + 0.038*\"gain\" + 0.038*\"know\" + 0.030*\"water\" + 0.030*\"affect\" + 0.030*\"flat\" + 0.030*\"bank\" + 0.030*\"meet\" + 0.030*\"central\" \n",
      "\n",
      "topic 3 words 0.043*\"year\" + 0.043*\"high\" + 0.043*\"make\" + 0.035*\"microsoft\" + 0.035*\"team\" + 0.035*\"faster\" + 0.035*\"grow\" + 0.035*\"say\" + 0.035*\"bigger\" + 0.029*\"stock\" \n",
      "\n",
      "topic 4 words 0.037*\"compani\" + 0.037*\"tri\" + 0.037*\"good\" + 0.036*\"growth\" + 0.032*\"shadow\" + 0.032*\"stori\" + 0.032*\"stretch\" + 0.032*\"cast\" + 0.025*\"china\" + 0.025*\"servic\" \n",
      "\n"
     ]
    }
   ],
   "source": [
    "for idx, topic in lda_model.print_topics(-1):\n",
    "    print(\"topic {0} words {1} \\n\".format(idx, topic))"
   ]
  },
  {
   "cell_type": "code",
   "execution_count": null,
   "metadata": {},
   "outputs": [],
   "source": []
  }
 ],
 "metadata": {
  "kernelspec": {
   "display_name": "Python 3",
   "language": "python",
   "name": "python3"
  },
  "language_info": {
   "codemirror_mode": {
    "name": "ipython",
    "version": 3
   },
   "file_extension": ".py",
   "mimetype": "text/x-python",
   "name": "python",
   "nbconvert_exporter": "python",
   "pygments_lexer": "ipython3",
   "version": "3.7.2"
  }
 },
 "nbformat": 4,
 "nbformat_minor": 2
}
