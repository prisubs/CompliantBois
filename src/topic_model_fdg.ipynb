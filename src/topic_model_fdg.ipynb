{
 "cells": [
  {
   "cell_type": "code",
   "execution_count": 60,
   "metadata": {},
   "outputs": [],
   "source": [
    "import pandas as pd\n",
    "import numpy as np\n",
    "\n",
    "import nltk\n",
    "from nltk.tokenize import word_tokenize\n",
    "from nltk.stem import PorterStemmer, WordNetLemmatizer, SnowballStemmer\n",
    "from nltk.stem.porter import *\n",
    "from nltk.corpus import stopwords\n",
    "\n",
    "from sklearn.cluster import KMeans\n",
    "from sklearn.feature_extraction.text import CountVectorizer, ENGLISH_STOP_WORDS, TfidfVectorizer\n",
    "\n",
    "import gensim\n",
    "from gensim.utils import simple_preprocess\n",
    "from gensim.parsing.preprocessing import STOPWORDS\n",
    "from gensim import corpora, models"
   ]
  },
  {
   "cell_type": "markdown",
   "metadata": {},
   "source": [
    "> organize the text into two topics, plot cosine similarities betwen vectorized keywords"
   ]
  },
  {
   "cell_type": "code",
   "execution_count": 61,
   "metadata": {},
   "outputs": [],
   "source": [
    "text = pd.Series([\n",
    "    \"Stretched Growth Story Casts a Shadow on AAPL Stock\",\n",
    "    \"Apple (NASDAQ:AAPL) Earning Somewhat Favorable Media Coverage, Analysis Shows\",\n",
    "    \"Flat Affect: Markets Tread Water With Fed, Other Central Bank Meetings Ahead\",\n",
    "    \"Yes, Apple Stock Can Make New Highs This Year\",\n",
    "    \"U.S. Investment Analyst is Upbeat on Apple's upcoming Q3 Financials, citing strong service revenues & Growth in China\",\n",
    "    \"Apple (AAPL) Outpaces Stock Market Gains: What You Should Know\",\n",
    "    \"In Case The Bears Are Right About Apple\",\n",
    "    \"Microsoft says its Teams app is bigger than Slack and growing faster\",\n",
    "    \"The Slackification of the American Home\",\n",
    "    \"Here are the biggest analyst calls of the day: Slack, Zoom, Morgan Stanley & more\",\n",
    "    \"If Slack is so good, why are so many companies trying to fix it?\"\n",
    "])"
   ]
  },
  {
   "cell_type": "code",
   "execution_count": 62,
   "metadata": {},
   "outputs": [],
   "source": [
    "def download_packages():\n",
    "    import nltk\n",
    "    import ssl\n",
    "\n",
    "    try:\n",
    "        _create_unverified_https_context = ssl._create_unverified_context\n",
    "    except AttributeError:\n",
    "        pass\n",
    "    else:\n",
    "        ssl._create_default_https_context = _create_unverified_https_context\n",
    "\n",
    "    nltk.download(\"wordnet\")"
   ]
  },
  {
   "cell_type": "code",
   "execution_count": 63,
   "metadata": {},
   "outputs": [
    {
     "name": "stdout",
     "output_type": "stream",
     "text": [
      "[nltk_data] Downloading package wordnet to\n",
      "[nltk_data]     /Users/pansproperties/nltk_data...\n",
      "[nltk_data]   Package wordnet is already up-to-date!\n"
     ]
    }
   ],
   "source": [
    "download_packages()"
   ]
  },
  {
   "cell_type": "code",
   "execution_count": 64,
   "metadata": {},
   "outputs": [],
   "source": [
    "CUSTOM_STOPWORDS = ENGLISH_STOP_WORDS.union(\n",
    "    [\"like\"] # add more stopwords here as needed\n",
    ")\n",
    "\n",
    "def stem_func(text):\n",
    "    stemmer = SnowballStemmer('english')\n",
    "    return stemmer.stem(WordNetLemmatizer().lemmatize(text, pos='v'))\n",
    "\n",
    "def is_meaningful(token):\n",
    "    cond1 = token not in CUSTOM_STOPWORDS\n",
    "    cond2 = len(token) > 3\n",
    "    return cond1 and cond2\n",
    "\n",
    "def topic_prepare(text):\n",
    "    result, tokens = [], gensim.utils.simple_preprocess(text)\n",
    "    for token in tokens:\n",
    "        if is_meaningful(token):\n",
    "            result.append(token)\n",
    "    return result"
   ]
  },
  {
   "cell_type": "code",
   "execution_count": 65,
   "metadata": {},
   "outputs": [],
   "source": [
    "text = text.apply(topic_prepare)"
   ]
  },
  {
   "cell_type": "code",
   "execution_count": 66,
   "metadata": {},
   "outputs": [],
   "source": [
    "dictionary = gensim.corpora.Dictionary(text)\n",
    "dictionary.filter_extremes(no_below=1, no_above=0.5, keep_n=1000)\n",
    "bow_dict = [dictionary.doc2bow(doc) for doc in text]"
   ]
  },
  {
   "cell_type": "code",
   "execution_count": 67,
   "metadata": {},
   "outputs": [],
   "source": [
    "tfidf = models.TfidfModel(bow_dict)\n",
    "corpus_tfidf = tfidf[bow_dict]\n",
    "lda_model = gensim.models.LdaMulticore(corpus_tfidf, num_topics = 5, id2word=dictionary, passes=2, workers=2)"
   ]
  },
  {
   "cell_type": "code",
   "execution_count": 77,
   "metadata": {},
   "outputs": [
    {
     "name": "stdout",
     "output_type": "stream",
     "text": [
      "(59, 0.04039356)\n",
      "(57, 0.04038282)\n",
      "(55, 0.040380765)\n",
      "(56, 0.04035519)\n",
      "(58, 0.04034967)\n",
      "(28, 0.032518283)\n",
      "(50, 0.0279612)\n",
      "(42, 0.013207874)\n",
      "(8, 0.013198013)\n",
      "(43, 0.013196349)\n"
     ]
    }
   ],
   "source": [
    "for topic in lda_model.get_topic_terms(1):\n",
    "    print(topic)"
   ]
  },
  {
   "cell_type": "code",
   "execution_count": null,
   "metadata": {},
   "outputs": [],
   "source": []
  }
 ],
 "metadata": {
  "kernelspec": {
   "display_name": "Python 3",
   "language": "python",
   "name": "python3"
  },
  "language_info": {
   "codemirror_mode": {
    "name": "ipython",
    "version": 3
   },
   "file_extension": ".py",
   "mimetype": "text/x-python",
   "name": "python",
   "nbconvert_exporter": "python",
   "pygments_lexer": "ipython3",
   "version": "3.7.2"
  }
 },
 "nbformat": 4,
 "nbformat_minor": 2
}
