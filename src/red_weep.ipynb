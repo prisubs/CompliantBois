{
 "cells": [
  {
   "cell_type": "code",
   "execution_count": 5,
   "metadata": {},
   "outputs": [],
   "source": [
    "import pandas as pd\n",
    "import numpy as np\n",
    "import requests\n",
    "from bs4 import BeautifulSoup\n",
    "import re"
   ]
  },
  {
   "cell_type": "code",
   "execution_count": 6,
   "metadata": {},
   "outputs": [],
   "source": [
    "def page_content(url, class_name):\n",
    "    page = requests.get(url)\n",
    "    soup = BeautifulSoup(page.content, 'html.parser')\n",
    "    content = soup.find_all(class_ = class_name)\n",
    "    result = pd.Series(content)\n",
    "    clean_html = lambda html: re.sub(\"<.*?>\", \"\", str(html))\n",
    "    return result.apply(clean_html)\n",
    "\n",
    "def paired_content(url, class_names):\n",
    "    df = pd.DataFrame()\n",
    "    for class_name in class_names:\n",
    "        df[class_name] = page_content(url, class_name)\n",
    "    return df"
   ]
  },
  {
   "cell_type": "code",
   "execution_count": 7,
   "metadata": {},
   "outputs": [
    {
     "data": {
      "text/plain": [
       "0     Join the waitlist: https://tradeapp.stocktwits...\n",
       "1     If you're watching gold $GLD rally this week, ...\n",
       "2     Okay, this was fun to make - the OFFICIAL trad...\n",
       "3     The S&amp;P 500 is up 25% in the last 125 trad...\n",
       "4         AN ICON.https://mailchi.mp/stocktwits/slack …\n",
       "5     #Stonks explained, courtesy of @grandayypic.tw...\n",
       "6     We’re at the @Benzinga #BZTradingSummit in NYC...\n",
       "7     Great @StockTwits  swag at @Benzinga #TradingS...\n",
       "8     The Slack IPO is today. It will trade as $WORK...\n",
       "9     StockTwits is where anyone interested in marke...\n",
       "10    The Canadians Are Crushing It. https://mailchi...\n",
       "11    LIVE: @BloombergTV dives into what to expect f...\n",
       "12                              The Fed: *does nothing*\n",
       "13    S&amp;P 500 $SPY sentiment on StockTwits headi...\n",
       "14    That god damn mouse $DISpic.twitter.com/mGAssr...\n",
       "15    \"How I Traded It\"\\n\\nRead how a pro options tr...\n",
       "16    The five steps to becoming a great investor. A...\n",
       "17    Zuck tries privacy.https://mailchi.mp/stocktwi...\n",
       "18    Trusted $FB with all of our personal info, and...\n",
       "19    Snapchat $SNAP is hitting new year-to-date hig...\n",
       "20    During the worst weeks of the trade war, one a...\n",
       "dtype: object"
      ]
     },
     "execution_count": 7,
     "metadata": {},
     "output_type": "execute_result"
    }
   ],
   "source": [
    "page_content(\"https://twitter.com/StockTwits\", \"TweetTextSize TweetTextSize--normal js-tweet-text tweet-text\")"
   ]
  },
  {
   "cell_type": "code",
   "execution_count": null,
   "metadata": {},
   "outputs": [],
   "source": []
  }
 ],
 "metadata": {
  "kernelspec": {
   "display_name": "Python 3",
   "language": "python",
   "name": "python3"
  },
  "language_info": {
   "codemirror_mode": {
    "name": "ipython",
    "version": 3
   },
   "file_extension": ".py",
   "mimetype": "text/x-python",
   "name": "python",
   "nbconvert_exporter": "python",
   "pygments_lexer": "ipython3",
   "version": "3.7.2"
  }
 },
 "nbformat": 4,
 "nbformat_minor": 2
}
