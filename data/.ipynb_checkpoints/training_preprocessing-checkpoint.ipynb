{
 "cells": [
  {
   "cell_type": "code",
   "execution_count": null,
   "metadata": {},
   "outputs": [],
   "source": [
    "import pandas as pd\n",
    "import numpy as np"
   ]
  },
  {
   "cell_type": "code",
   "execution_count": null,
   "metadata": {},
   "outputs": [],
   "source": [
    "file_names_original = [\"AAPL.csv\", \"AMZN.csv\", \"BABA.csv\", \"CRM.csv\", \"FB.csv\", \"GOOG.csv\", \n",
    "                       \"MSFT.csv\", \"NFLX.csv\", \"TSLA.csv\", \"WMT.csv\"]"
   ]
  },
  {
   "cell_type": "code",
   "execution_count": null,
   "metadata": {},
   "outputs": [],
   "source": [
    "for file in file_names_original:\n",
    "    df = pd.read_csv(file)\n",
    "    df[\"Average\"] = (df[\"High\"] + df[\"Low\"]) / 2\n",
    "    df[\"Ticker\"] = file[0:-4]\n",
    "    df.to_csv(file)\n",
    "\n",
    "def read_clean(filename):\n",
    "    df = pd.read_csv(filename)\n",
    "    df = df[[\"Open\", \"Date\", \"High\", \"Low\", \"Close\", \"Adj Close\", \"Volume\", \"Average\", \"Ticker\"]]\n",
    "    return df"
   ]
  },
  {
   "cell_type": "code",
   "execution_count": null,
   "metadata": {},
   "outputs": [],
   "source": [
    "read_clean(\"AAPL.csv\")"
   ]
  }
 ],
 "metadata": {
  "kernelspec": {
   "display_name": "Python 3",
   "language": "python",
   "name": "python3"
  },
  "language_info": {
   "codemirror_mode": {
    "name": "ipython",
    "version": 3
   },
   "file_extension": ".py",
   "mimetype": "text/x-python",
   "name": "python",
   "nbconvert_exporter": "python",
   "pygments_lexer": "ipython3",
   "version": "3.7.2"
  }
 },
 "nbformat": 4,
 "nbformat_minor": 2
}
