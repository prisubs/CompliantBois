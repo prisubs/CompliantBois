{
 "cells": [
  {
   "cell_type": "code",
   "execution_count": 6,
   "metadata": {},
   "outputs": [],
   "source": [
    "import pandas as pd\n",
    "import numpy as np\n",
    "from tiingo import TiingoClient\n",
    "import datetime as dt"
   ]
  },
  {
   "cell_type": "code",
   "execution_count": 8,
   "metadata": {},
   "outputs": [],
   "source": [
    "client = TiingoClient({\"api_key\": \"a265fc4a1013923f970d16e7348195074e97fcb0\"})"
   ]
  },
  {
   "cell_type": "code",
   "execution_count": 9,
   "metadata": {},
   "outputs": [],
   "source": [
    "def query_ticker(ticker, start, end):\n",
    "    articles = client.get_news(tickers=[ticker], startDate=start, endDate=end)\n",
    "    return articles"
   ]
  },
  {
   "cell_type": "code",
   "execution_count": 24,
   "metadata": {},
   "outputs": [],
   "source": [
    "def aggregate_jsons(json_list):\n",
    "    result = \"\"\n",
    "    for json in json_list:\n",
    "        headline = json[\"title\"]\n",
    "        desc = json[\"description\"]\n",
    "        result += headline + \" \" + desc\n",
    "    return result\n",
    "\n",
    "def extract_urls(json_list):\n",
    "    result = []\n",
    "    for json in json_list:\n",
    "        result.append(json[\"url\"])\n",
    "    return result"
   ]
  },
  {
   "cell_type": "code",
   "execution_count": 21,
   "metadata": {},
   "outputs": [],
   "source": [
    "def calculate_date(start):\n",
    "    start = pd.to_datetime(x, infer_datetime_format=True)\n",
    "    end = start + datetime.timedelta(days=6)\n",
    "    return end"
   ]
  },
  {
   "cell_type": "code",
   "execution_count": 26,
   "metadata": {},
   "outputs": [
    {
     "data": {
      "text/plain": [
       "['https://finance.yahoo.com/news/weekly-tech-stock-news-facebook-154100493.html',\n",
       " 'https://seekingalpha.com/article/4271645-slacks-upside-compelling-comes-price',\n",
       " 'https://finance.yahoo.com/news/why-does-slack-spend-much-170000746.html',\n",
       " 'https://finance.yahoo.com/news/ready-onslaught-ipos-151500234.html',\n",
       " 'https://seekingalpha.com/article/4271618-u-s-ipo-weekly-recap-works-direct-listing-works-slack-6-others-go-public']"
      ]
     },
     "execution_count": 26,
     "metadata": {},
     "output_type": "execute_result"
    }
   ],
   "source": [
    "g = query_ticker(\"WORK\", \"2019-06-03\", \"2019-06-24\")\n",
    "extract_urls(g)[0:5]"
   ]
  },
  {
   "cell_type": "code",
   "execution_count": null,
   "metadata": {},
   "outputs": [],
   "source": [
    "# Go through each dataframe, add the necessary bois, and then read it back to a csv\n"
   ]
  }
 ],
 "metadata": {
  "kernelspec": {
   "display_name": "Python 3",
   "language": "python",
   "name": "python3"
  },
  "language_info": {
   "codemirror_mode": {
    "name": "ipython",
    "version": 3
   },
   "file_extension": ".py",
   "mimetype": "text/x-python",
   "name": "python",
   "nbconvert_exporter": "python",
   "pygments_lexer": "ipython3",
   "version": "3.7.2"
  }
 },
 "nbformat": 4,
 "nbformat_minor": 2
}
