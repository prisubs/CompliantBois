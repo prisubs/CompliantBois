{
 "cells": [
  {
   "cell_type": "code",
   "execution_count": 5,
   "metadata": {},
   "outputs": [],
   "source": [
    "import pandas as pd\n",
    "import numpy as np\n",
    "import requests\n",
    "from bs4 import BeautifulSoup\n",
    "import re"
   ]
  },
  {
   "cell_type": "code",
   "execution_count": 6,
   "metadata": {},
   "outputs": [],
   "source": [
    "def page_content(url, class_name):\n",
    "    page = requests.get(url)\n",
    "    soup = BeautifulSoup(page.content, 'html.parser')\n",
    "    content = soup.find_all(class_ = class_name)\n",
    "    result = pd.Series(content)\n",
    "    clean_html = lambda html: re.sub(\"<.*?>\", \"\", str(html))\n",
    "    return result.apply(clean_html)\n",
    "\n",
    "def paired_content(url, class_names):\n",
    "    df = pd.DataFrame()\n",
    "    for class_name in class_names:\n",
    "        df[class_name] = page_content(url, class_name)\n",
    "    return df"
   ]
  },
  {
   "cell_type": "code",
   "execution_count": 8,
   "metadata": {},
   "outputs": [],
   "source": [
    "x = page_content(\"https://twitter.com/StockTwits\", \"TweetTextSize TweetTextSize--normal js-tweet-text tweet-text\")"
   ]
  },
  {
   "cell_type": "code",
   "execution_count": 12,
   "metadata": {},
   "outputs": [
    {
     "name": "stdout",
     "output_type": "stream",
     "text": [
      "Join the waitlist: https://tradeapp.stocktwits.com/ pic.twitter.com/pamUvDKSPO\n",
      "If you're watching gold $GLD rally this week, you need to also know about these levels.https://stocktwits.com/allstarcharts/message/168290149 …\n",
      "Okay, this was fun to make - the OFFICIAL trader t-shirt of summer 2019 is here. \n",
      "\n",
      "we did a collab with @StockTwits - supplies are limited!\n",
      "\n",
      "https://www.youtube.com/watch?v=nV9QEd_vnyY …https://shop.stocktwits.com/products/t-r-e-n-d-s-limited-edition-collab-the-compound-x-stocktwits-black-short-sleeve-t-shirt …\n",
      "The S&amp;P 500 is up 25% in the last 125 trading days. What does that mean? This from @OddStats.https://stocktwits.com/SPYontheQs/message/168255580 …\n",
      "AN ICON.https://mailchi.mp/stocktwits/slack …\n",
      "#Stonks explained, courtesy of @grandayypic.twitter.com/0JdErKUNil\n",
      "We’re at the @Benzinga #BZTradingSummit in NYC. Stop by and say hi. If you show us the StockTwits app on your mobile device, you get a pair of these. pic.twitter.com/TGTzo08Zf4\n",
      "Great @StockTwits  swag at @Benzinga #TradingSummit #NYC as I near my 9th anniversary on the platform . Thanks StockTwits!!pic.twitter.com/1yK5F2jVQV\n",
      "The Slack IPO is today. It will trade as $WORK on the New York Stock Exchange.  It's set to begin trading at $26/share. Its market cap could approach $20 billion.\n",
      "\n",
      "Over 300 messages have already been posted to StockTwits today:https://stocktwits.com/symbol/WORK \n",
      "StockTwits is where anyone interested in markets can learn, follow or participate at any rate they want. These are the best posts.https://stocktwits.com/OMW2Money/message/168033777 …\n",
      "The Canadians Are Crushing It. https://mailchi.mp/stocktwits/shopanddrop …\n",
      "LIVE: @BloombergTV dives into what to expect from today's Federal Reserve rate decision and meeting http://pscp.tv/w/1DXGyNOZRvyJM \n",
      "The Fed: *does nothing*\n",
      "S&amp;P 500 $SPY sentiment on StockTwits heading into today's Fed announcement \n",
      "\n",
      "• 51% bullish\n",
      "• 49% bearishhttps://stocktwits.com/symbol/SPY \n",
      "That god damn mouse $DISpic.twitter.com/mGAssrXDgO\n",
      "\"How I Traded It\"\n",
      "\n",
      "Read how a pro options trader found a stock, scanned the market, and perfected an options trade.https://stocktwits.com/r/ChartingSchool/iKUCACRZwH …\n",
      "The five steps to becoming a great investor. A must-read for all investors, traders, and participants in the stock market.https://stocktwits.com/howardlindzon/message/167937885 …\n",
      "Zuck tries privacy.https://mailchi.mp/stocktwits/libra …\n",
      "Trusted $FB with all of our personal info, and now going to trust $FB with all our financial data #Librapic.twitter.com/p56wsZPSi1\n",
      "Snapchat $SNAP is hitting new year-to-date highs again today. It's now up more than 140% this year.\n",
      "\n",
      "https://stocktwits.com/symbol/SNAP pic.twitter.com/zkLoTlWa78\n",
      "During the worst weeks of the trade war, one asset outperformed everything. That asset was Bitcoin. $BTC.Xhttps://stocktwits.com/davidmoadel/message/167829069 …\n"
     ]
    }
   ],
   "source": [
    "for tweet in x:\n",
    "    print(tweet)"
   ]
  },
  {
   "cell_type": "code",
   "execution_count": null,
   "metadata": {},
   "outputs": [],
   "source": []
  }
 ],
 "metadata": {
  "kernelspec": {
   "display_name": "Python 3",
   "language": "python",
   "name": "python3"
  },
  "language_info": {
   "codemirror_mode": {
    "name": "ipython",
    "version": 3
   },
   "file_extension": ".py",
   "mimetype": "text/x-python",
   "name": "python",
   "nbconvert_exporter": "python",
   "pygments_lexer": "ipython3",
   "version": "3.7.2"
  }
 },
 "nbformat": 4,
 "nbformat_minor": 2
}
