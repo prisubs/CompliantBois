{
 "cells": [
  {
   "cell_type": "code",
   "execution_count": 16,
   "metadata": {},
   "outputs": [],
   "source": [
    "import pandas as pd\n",
    "import numpy as np\n",
    "from textblob import TextBlob\n",
    "from tiingo import TiingoClient\n",
    "import indicoio\n",
    "\n",
    "import seaborn as sns\n",
    "import matplotlib.pyplot as plt"
   ]
  },
  {
   "cell_type": "code",
   "execution_count": 46,
   "metadata": {},
   "outputs": [],
   "source": [
    "def classify_headline(headline):\n",
    "    sentiment = TextBlob(headline).sentiment.polarity * TextBlob(headline).sentiment.subjectivity\n",
    "    return sentiment\n",
    "\n",
    "def query_ticker(start, end, ticker):\n",
    "    indicoio.config.api_key = \"25b83c4c388204edd2c6c11cd907e048\"\n",
    "    client = TiingoClient({\"api_key\": \"a265fc4a1013923f970d16e7348195074e97fcb0\"})\n",
    "    \n",
    "    response = client.get_news(tickers=[ticker], startDate=start, endDate=end, limit=400000)\n",
    "    col1, col2, col3, col4 = [], [], [], []\n",
    "    for json in response:\n",
    "        col4.append(json[\"publishedDate\"])\n",
    "        col1.append(json[\"title\"])\n",
    "        col2.append(json[\"description\"])\n",
    "        col3.append(json[\"url\"])\n",
    "    col1, col2, col3, col4 = pd.Series(col1), pd.Series(col2), pd.Series(col3), pd.Series(col4)\n",
    "    df = pd.DataFrame({\"title\": col1, \"desc\": col2, \"url\": col3, \"date\": col4})\n",
    "    df[\"date\"] = df[\"date\"].apply(lambda x: x[0:10])\n",
    "    df[\"sentiment\"] = df[\"title\"].apply(classify_headline)\n",
    "    return df"
   ]
  },
  {
   "cell_type": "code",
   "execution_count": 51,
   "metadata": {},
   "outputs": [],
   "source": [
    "df = query_ticker(\"20190101\", \"20190601\", \"aapl\")"
   ]
  },
  {
   "cell_type": "code",
   "execution_count": null,
   "metadata": {},
   "outputs": [],
   "source": []
  }
 ],
 "metadata": {
  "kernelspec": {
   "display_name": "Python 3",
   "language": "python",
   "name": "python3"
  },
  "language_info": {
   "codemirror_mode": {
    "name": "ipython",
    "version": 3
   },
   "file_extension": ".py",
   "mimetype": "text/x-python",
   "name": "python",
   "nbconvert_exporter": "python",
   "pygments_lexer": "ipython3",
   "version": "3.7.2"
  }
 },
 "nbformat": 4,
 "nbformat_minor": 2
}
