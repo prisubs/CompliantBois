{
 "cells": [
  {
   "cell_type": "code",
   "execution_count": null,
   "metadata": {},
   "outputs": [],
   "source": [
    "import requests\n",
    "from bs4 import BeautifulSoup\n",
    "import re\n",
    "import pandas as pd"
   ]
  },
  {
   "cell_type": "code",
   "execution_count": null,
   "metadata": {},
   "outputs": [],
   "source": [
    "import tweepy\n",
    "\n",
    "consumer_key = ''\n",
    "consumer_secret = ''\n",
    "access_token = ''\n",
    "access_token_secret = ''"
   ]
  },
  {
   "cell_type": "code",
   "execution_count": 1,
   "metadata": {},
   "outputs": [],
   "source": [
    "# Returns a list of items from a particular classname\n",
    "def page_content(url, class_name):\n",
    "    page = requests.get(url)\n",
    "    soup = BeautifulSoup(page.content, 'html.parser')\n",
    "    content = soup.find_all(class_ = class_name)\n",
    "    result = pd.Series(content)\n",
    "    clean_html = lambda html: re.sub(\"<.*?>\", \"\", str(html))\n",
    "    return result.apply(clean_html)\n",
    "\n",
    "# Returns a dataframe of paired HTML elements from a list of classnames\n",
    "def paired_content(url, class_names):\n",
    "    df = pd.DataFrame()\n",
    "    for class_name in class_names:\n",
    "        df[class_name] = page_content(url, class_name)\n",
    "    return df"
   ]
  },
  {
   "cell_type": "code",
   "execution_count": 2,
   "metadata": {},
   "outputs": [],
   "source": [
    "# Finds 100 tweets on a hashtag query\n",
    "# Datestring needs to be formatted as YYYY-MM-DD\n",
    "# Hashtag needs to be in format #hashtag\n",
    "# Returns dataframe of tweets and dates\n",
    "def hashtag_scrape(hashtag, datestring):\n",
    "    auth = tweepy.OAuthHandler(consumer_key, consumer_secret)\n",
    "    auth.set_access_token(access_token, access_token_secret)\n",
    "    api = tweepy.API(auth,wait_on_rate_limit=True)\n",
    "    \n",
    "    texts, dates = [], []\n",
    "    cursor = tweepy.Cursor(api.search, q = hashtag,count=100, lang=\"en\", since= datestring).items()\n",
    "\n",
    "    for tweet in cursor:\n",
    "        texts.append(tweet.text)\n",
    "        dates.append(tweet.created_at)\n",
    "    \n",
    "    df = pd.DataFrame({\"tweet\": texts, \"date\": dates})\n",
    "    return df"
   ]
  },
  {
   "cell_type": "code",
   "execution_count": null,
   "metadata": {},
   "outputs": [],
   "source": []
  }
 ],
 "metadata": {
  "kernelspec": {
   "display_name": "Python 3",
   "language": "python",
   "name": "python3"
  },
  "language_info": {
   "codemirror_mode": {
    "name": "ipython",
    "version": 3
   },
   "file_extension": ".py",
   "mimetype": "text/x-python",
   "name": "python",
   "nbconvert_exporter": "python",
   "pygments_lexer": "ipython3",
   "version": "3.7.2"
  }
 },
 "nbformat": 4,
 "nbformat_minor": 2
}
