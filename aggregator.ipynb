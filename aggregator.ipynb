{
 "cells": [
  {
   "cell_type": "code",
   "execution_count": 1,
   "metadata": {},
   "outputs": [],
   "source": [
    "import pandas as pd\n",
    "import numpy as np\n",
    "import datetime\n",
    "from tiingo import TiingoClient\n",
    "import indicoio\n",
    "import seaborn as sns\n",
    "import time\n",
    "from textblob import TextBlob\n",
    "import matplotlib as plt"
   ]
  },
  {
   "cell_type": "code",
   "execution_count": 2,
   "metadata": {},
   "outputs": [],
   "source": [
    "UP = []\n",
    "DOWN = []\n",
    "\n",
    "def count_words(original_string, bag_of_words):\n",
    "    split_string = original_string.lower().split()\n",
    "    count = 0\n",
    "    for word in bag_of_words:\n",
    "        matches = split_string.count(word)\n",
    "        count += matches\n",
    "    ratio = count/len(split_string)\n",
    "    return ratio\n",
    "    \n",
    "def aggregate_jsons(json_list):\n",
    "    result = []\n",
    "    for json in json_list:\n",
    "        headline = json[\"title\"]\n",
    "        desc = json[\"description\"]\n",
    "        x = headline + \" \" + desc\n",
    "        result.append(x)\n",
    "    return result\n",
    "\n",
    "def pipeline(df_path, ticky):\n",
    "    # get the dataframe from csv\n",
    "    df = pd.read_csv(df_path)\n",
    "    \n",
    "    # fix dates\n",
    "    df[\"Date\"] = df[\"Date\"].apply(lambda x: pd.to_datetime(x, infer_datetime_format=True))\n",
    "    df[\"Start\"] = df[\"Date\"].apply(str)\n",
    "    six_days = lambda start_date: start_date + datetime.timedelta(days=6)\n",
    "    df[\"End\"] = df[\"Date\"].apply(six_days).apply(str)\n",
    "    df = df.drop(columns=[\"Date\"])\n",
    "    remove_time = lambda dt: dt[0:10]\n",
    "    df[\"Start\"] = df[\"Start\"].apply(remove_time)\n",
    "    df[\"End\"] = df[\"End\"].apply(remove_time)\n",
    "    \n",
    "    # add json\n",
    "    client = TiingoClient({\"api_key\": \"a265fc4a1013923f970d16e7348195074e97fcb0\"})\n",
    "    query_ticker = lambda t, s, e: client.get_news(tickers=[t], startDate=s, endDate=e)\n",
    "    df[\"JSON\"] = df.apply(lambda d: query_ticker(ticky, d[\"Start\"], d[\"End\"]), axis=1)\n",
    "    \n",
    "    # create corpus\n",
    "    df[\"corpus\"] = df[\"JSON\"].apply(aggregate_jsons)\n",
    "    df[\"vectorized\"] = df[\"corpus\"]\n",
    "    combinatric = lambda l: ''.join(l)\n",
    "    df[\"corpus\"] = df[\"vectorized\"].apply(combinatric)\n",
    "    \n",
    "    # add sentiment\n",
    "    df[\"sentiment\"] = df[\"corpus\"].apply(lambda orig: TextBlob(orig).sentiment.polarity)\n",
    "    df[\"sentiment_test\"] = df[\"vectorized\"].apply(lambda orig: [TextBlob(o).sentiment.polarity for o in orig]).apply(np.mean)\n",
    "\n",
    "    # add statistical features\n",
    "    # df[\"features\"] = df[\"corpus\"].apply(lambda text: indicoio.text_features(text, v=2))\n",
    "    \n",
    "    # add bag of words ratio\n",
    "    #df[\"bad_ratio\"] = \n",
    "    #df[\"good_keywords\"]\n",
    "    \n",
    "    # return the nice beautiful dataframe\n",
    "    return df"
   ]
  },
  {
   "cell_type": "code",
   "execution_count": 3,
   "metadata": {},
   "outputs": [
    {
     "name": "stdout",
     "output_type": "stream",
     "text": [
      "Function took 8.802457809448242s to run\n"
     ]
    }
   ],
   "source": [
    "g = time.time()\n",
    "d = pipeline(\"TSLA-daily.csv\", \"tsla\")\n",
    "x = time.time()\n",
    "d.to_csv(\"TSLA_vector.csv\")\n",
    "print(\"Function took {0}s to run\".format(x-g))"
   ]
  },
  {
   "cell_type": "code",
   "execution_count": 4,
   "metadata": {},
   "outputs": [
    {
     "data": {
      "text/plain": [
       "<matplotlib.axes._subplots.AxesSubplot at 0x11b57bcf8>"
      ]
     },
     "execution_count": 4,
     "metadata": {},
     "output_type": "execute_result"
    },
    {
     "data": {
      "image/png": "[encoded data removed]",
      "text/plain": [
       "<Figure size 432x288 with 1 Axes>"
      ]
     },
     "metadata": {
      "needs_background": "light"
     },
     "output_type": "display_data"
    }
   ],
   "source": [
    "sns.lineplot(d[\"sentiment\"], d[\"Volume\"])\n",
    "sns.lineplot(d[\"sentiment_test\"], d[\"Volume\"])"
   ]
  },
  {
   "cell_type": "code",
   "execution_count": 5,
   "metadata": {},
   "outputs": [
    {
     "data": {
      "text/html": [
       "<div>\n",
       "<style scoped>\n",
       "    .dataframe tbody tr th:only-of-type {\n",
       "        vertical-align: middle;\n",
       "    }\n",
       "\n",
       "    .dataframe tbody tr th {\n",
       "        vertical-align: top;\n",
       "    }\n",
       "\n",
       "    .dataframe thead th {\n",
       "        text-align: right;\n",
       "    }\n",
       "</style>\n",
       "<table border=\"1\" class=\"dataframe\">\n",
       "  <thead>\n",
       "    <tr style=\"text-align: right;\">\n",
       "      <th></th>\n",
       "      <th>Open</th>\n",
       "      <th>High</th>\n",
       "      <th>Low</th>\n",
       "      <th>Close</th>\n",
       "      <th>Adj Close</th>\n",
       "      <th>Volume</th>\n",
       "      <th>Start</th>\n",
       "      <th>End</th>\n",
       "      <th>JSON</th>\n",
       "      <th>corpus</th>\n",
       "      <th>vectorized</th>\n",
       "      <th>sentiment</th>\n",
       "      <th>sentiment_test</th>\n",
       "    </tr>\n",
       "  </thead>\n",
       "  <tbody>\n",
       "    <tr>\n",
       "      <th>0</th>\n",
       "      <td>191.199997</td>\n",
       "      <td>195.000000</td>\n",
       "      <td>187.850006</td>\n",
       "      <td>188.699997</td>\n",
       "      <td>188.699997</td>\n",
       "      <td>10312900</td>\n",
       "      <td>2019-05-28</td>\n",
       "      <td>2019-06-03</td>\n",
       "      <td>[{'crawlDate': '2019-06-03T00:23:42.153852Z', ...</td>\n",
       "      <td>Tesla likely to build Model Y at California pl...</td>\n",
       "      <td>[Tesla likely to build Model Y at California p...</td>\n",
       "      <td>0.091818</td>\n",
       "      <td>0.089958</td>\n",
       "    </tr>\n",
       "    <tr>\n",
       "      <th>1</th>\n",
       "      <td>187.100006</td>\n",
       "      <td>192.389999</td>\n",
       "      <td>185.039993</td>\n",
       "      <td>189.860001</td>\n",
       "      <td>189.860001</td>\n",
       "      <td>11968600</td>\n",
       "      <td>2019-05-29</td>\n",
       "      <td>2019-06-04</td>\n",
       "      <td>[{'crawlDate': '2019-06-04T01:36:47.939742Z', ...</td>\n",
       "      <td>UPDATE 1-Australia's Clean Teq begins search f...</td>\n",
       "      <td>[UPDATE 1-Australia's Clean Teq begins search ...</td>\n",
       "      <td>0.083808</td>\n",
       "      <td>0.078232</td>\n",
       "    </tr>\n",
       "    <tr>\n",
       "      <th>2</th>\n",
       "      <td>188.750000</td>\n",
       "      <td>192.259995</td>\n",
       "      <td>187.020004</td>\n",
       "      <td>188.220001</td>\n",
       "      <td>188.220001</td>\n",
       "      <td>7926500</td>\n",
       "      <td>2019-05-30</td>\n",
       "      <td>2019-06-05</td>\n",
       "      <td>[{'crawlDate': '2019-06-04T23:36:31.276963Z', ...</td>\n",
       "      <td>Bullish Uber Analyst Isn’t Worried that Tesla ...</td>\n",
       "      <td>[Bullish Uber Analyst Isn’t Worried that Tesla...</td>\n",
       "      <td>0.090814</td>\n",
       "      <td>0.059442</td>\n",
       "    </tr>\n",
       "    <tr>\n",
       "      <th>3</th>\n",
       "      <td>185.100006</td>\n",
       "      <td>189.919998</td>\n",
       "      <td>184.100006</td>\n",
       "      <td>185.160004</td>\n",
       "      <td>185.160004</td>\n",
       "      <td>10406700</td>\n",
       "      <td>2019-05-31</td>\n",
       "      <td>2019-06-06</td>\n",
       "      <td>[{'crawlDate': '2019-06-05T21:38:25.965970Z', ...</td>\n",
       "      <td>Tesla's European Demand Problems Offer a Stark...</td>\n",
       "      <td>[Tesla's European Demand Problems Offer a Star...</td>\n",
       "      <td>0.104620</td>\n",
       "      <td>0.069325</td>\n",
       "    </tr>\n",
       "    <tr>\n",
       "      <th>4</th>\n",
       "      <td>185.509995</td>\n",
       "      <td>186.679993</td>\n",
       "      <td>176.990005</td>\n",
       "      <td>178.970001</td>\n",
       "      <td>178.970001</td>\n",
       "      <td>13064400</td>\n",
       "      <td>2019-06-03</td>\n",
       "      <td>2019-06-09</td>\n",
       "      <td>[{'crawlDate': '2019-06-09T00:22:46.167832Z', ...</td>\n",
       "      <td>Tesla \"Party Mode\" Coming Soon, Spotted By Hac...</td>\n",
       "      <td>[Tesla \"Party Mode\" Coming Soon, Spotted By Ha...</td>\n",
       "      <td>0.130079</td>\n",
       "      <td>0.138233</td>\n",
       "    </tr>\n",
       "  </tbody>\n",
       "</table>\n",
       "</div>"
      ],
      "text/plain": [
       "         Open        High         Low       Close   Adj Close    Volume  \\\n",
       "0  191.199997  195.000000  187.850006  188.699997  188.699997  10312900   \n",
       "1  187.100006  192.389999  185.039993  189.860001  189.860001  11968600   \n",
       "2  188.750000  192.259995  187.020004  188.220001  188.220001   7926500   \n",
       "3  185.100006  189.919998  184.100006  185.160004  185.160004  10406700   \n",
       "4  185.509995  186.679993  176.990005  178.970001  178.970001  13064400   \n",
       "\n",
       "        Start         End                                               JSON  \\\n",
       "0  2019-05-28  2019-06-03  [{'crawlDate': '2019-06-03T00:23:42.153852Z', ...   \n",
       "1  2019-05-29  2019-06-04  [{'crawlDate': '2019-06-04T01:36:47.939742Z', ...   \n",
       "2  2019-05-30  2019-06-05  [{'crawlDate': '2019-06-04T23:36:31.276963Z', ...   \n",
       "3  2019-05-31  2019-06-06  [{'crawlDate': '2019-06-05T21:38:25.965970Z', ...   \n",
       "4  2019-06-03  2019-06-09  [{'crawlDate': '2019-06-09T00:22:46.167832Z', ...   \n",
       "\n",
       "                                              corpus  \\\n",
       "0  Tesla likely to build Model Y at California pl...   \n",
       "1  UPDATE 1-Australia's Clean Teq begins search f...   \n",
       "2  Bullish Uber Analyst Isn’t Worried that Tesla ...   \n",
       "3  Tesla's European Demand Problems Offer a Stark...   \n",
       "4  Tesla \"Party Mode\" Coming Soon, Spotted By Hac...   \n",
       "\n",
       "                                          vectorized  sentiment  \\\n",
       "0  [Tesla likely to build Model Y at California p...   0.091818   \n",
       "1  [UPDATE 1-Australia's Clean Teq begins search ...   0.083808   \n",
       "2  [Bullish Uber Analyst Isn’t Worried that Tesla...   0.090814   \n",
       "3  [Tesla's European Demand Problems Offer a Star...   0.104620   \n",
       "4  [Tesla \"Party Mode\" Coming Soon, Spotted By Ha...   0.130079   \n",
       "\n",
       "   sentiment_test  \n",
       "0        0.089958  \n",
       "1        0.078232  \n",
       "2        0.059442  \n",
       "3        0.069325  \n",
       "4        0.138233  "
      ]
     },
     "execution_count": 5,
     "metadata": {},
     "output_type": "execute_result"
    }
   ],
   "source": [
    "d.head()"
   ]
  },
  {
   "cell_type": "code",
   "execution_count": 6,
   "metadata": {},
   "outputs": [
    {
     "name": "stdout",
     "output_type": "stream",
     "text": [
      "Function took 9.515564918518066s to run\n"
     ]
    }
   ],
   "source": [
    "g = time.time()\n",
    "d = pipeline(\"MSFT-daily.csv\", \"msft\")\n",
    "d.to_csv(\"MSFT_vector.csv\")\n",
    "x = time.time()\n",
    "print(\"Function took {0}s to run\".format(x-g))"
   ]
  },
  {
   "cell_type": "code",
   "execution_count": 7,
   "metadata": {},
   "outputs": [
    {
     "data": {
      "text/plain": [
       "<matplotlib.axes._subplots.AxesSubplot at 0x11b5ae860>"
      ]
     },
     "execution_count": 7,
     "metadata": {},
     "output_type": "execute_result"
    },
    {
     "data": {
      "image/png": "[encoded data removed]",
      "text/plain": [
       "<Figure size 432x288 with 1 Axes>"
      ]
     },
     "metadata": {
      "needs_background": "light"
     },
     "output_type": "display_data"
    }
   ],
   "source": [
    "sns.lineplot(d[\"sentiment\"], d[\"Volume\"])"
   ]
  },
  {
   "cell_type": "code",
   "execution_count": 8,
   "metadata": {},
   "outputs": [
    {
     "data": {
      "text/plain": [
       "<matplotlib.axes._subplots.AxesSubplot at 0x11b5d7240>"
      ]
     },
     "execution_count": 8,
     "metadata": {},
     "output_type": "execute_result"
    },
    {
     "data": {
      "image/png": "[encoded data removed]",
      "text/plain": [
       "<Figure size 432x288 with 1 Axes>"
      ]
     },
     "metadata": {
      "needs_background": "light"
     },
     "output_type": "display_data"
    }
   ],
   "source": [
    "sns.lineplot(d[\"sentiment_test\"], d[\"Volume\"])"
   ]
  },
  {
   "cell_type": "code",
   "execution_count": 9,
   "metadata": {},
   "outputs": [
    {
     "data": {
      "text/plain": [
       "-0.008986025802126036"
      ]
     },
     "execution_count": 9,
     "metadata": {},
     "output_type": "execute_result"
    }
   ],
   "source": [
    "np.mean(d[\"sentiment_test\"] - d[\"sentiment\"])"
   ]
  },
  {
   "cell_type": "code",
   "execution_count": 10,
   "metadata": {},
   "outputs": [
    {
     "name": "stdout",
     "output_type": "stream",
     "text": [
      "Function took 8.657402038574219s to run\n"
     ]
    },
    {
     "data": {
      "text/plain": [
       "<matplotlib.axes._subplots.AxesSubplot at 0x11e0a06d8>"
      ]
     },
     "execution_count": 10,
     "metadata": {},
     "output_type": "execute_result"
    },
    {
     "data": {
      "image/png": "[encoded data removed]",
      "text/plain": [
       "<Figure size 432x288 with 1 Axes>"
      ]
     },
     "metadata": {
      "needs_background": "light"
     },
     "output_type": "display_data"
    }
   ],
   "source": [
    "g = time.time()\n",
    "d = pipeline(\"AAPL-daily.csv\", \"aapl\")\n",
    "d.to_csv(\"AAPL_vector.csv\")\n",
    "x = time.time()\n",
    "print(\"Function took {0}s to run\".format(x-g))\n",
    "sns.lineplot(d[\"sentiment\"], d[\"Volume\"])\n",
    "sns.lineplot(d[\"sentiment_test\"], d[\"Volume\"])"
   ]
  },
  {
   "cell_type": "code",
   "execution_count": 47,
   "metadata": {},
   "outputs": [],
   "source": [
    "# d is now the AAPL vector, close will the the label\n",
    "from sklearn.model_selection import train_test_split\n",
    "from sklearn import linear_model\n",
    "\n",
    "X = d[[\"sentiment\", \"sentiment_test\", \"Low\"]]\n",
    "Y = d[\"High\"]\n",
    "X_train, X_test, Y_train, Y_test = train_test_split(X, Y, test_size = 0.5, random_state = 69)\n",
    "\n",
    "def mse(v1, v2):\n",
    "    return np.sum((v1 - v2) ** 2) "
   ]
  },
  {
   "cell_type": "code",
   "execution_count": 48,
   "metadata": {},
   "outputs": [
    {
     "name": "stdout",
     "output_type": "stream",
     "text": [
      "Error was 45.32821320564766\n"
     ]
    }
   ],
   "source": [
    "model = linear_model.LinearRegression()\n",
    "model.fit(X_train, Y_train)\n",
    "Y_predicted = model.predict(X_test)\n",
    "error = mse(Y_predicted, Y_test)\n",
    "print(\"Error was {0}\".format(error))"
   ]
  },
  {
   "cell_type": "code",
   "execution_count": 49,
   "metadata": {},
   "outputs": [
    {
     "data": {
      "text/plain": [
       "1.7353932979010707"
      ]
     },
     "execution_count": 49,
     "metadata": {},
     "output_type": "execute_result"
    }
   ],
   "source": [
    "np.mean(abs(Y_predicted - Y_test))"
   ]
  },
  {
   "cell_type": "code",
   "execution_count": 50,
   "metadata": {},
   "outputs": [
    {
     "data": {
      "text/html": [
       "<div>\n",
       "<style scoped>\n",
       "    .dataframe tbody tr th:only-of-type {\n",
       "        vertical-align: middle;\n",
       "    }\n",
       "\n",
       "    .dataframe tbody tr th {\n",
       "        vertical-align: top;\n",
       "    }\n",
       "\n",
       "    .dataframe thead th {\n",
       "        text-align: right;\n",
       "    }\n",
       "</style>\n",
       "<table border=\"1\" class=\"dataframe\">\n",
       "  <thead>\n",
       "    <tr style=\"text-align: right;\">\n",
       "      <th></th>\n",
       "      <th>0</th>\n",
       "    </tr>\n",
       "    <tr>\n",
       "      <th>High</th>\n",
       "      <th></th>\n",
       "    </tr>\n",
       "  </thead>\n",
       "  <tbody>\n",
       "    <tr>\n",
       "      <th>227.770004</th>\n",
       "      <td>229.301422</td>\n",
       "    </tr>\n",
       "    <tr>\n",
       "      <th>222.179993</th>\n",
       "      <td>222.564504</td>\n",
       "    </tr>\n",
       "    <tr>\n",
       "      <th>216.649994</th>\n",
       "      <td>220.300726</td>\n",
       "    </tr>\n",
       "    <tr>\n",
       "      <th>211.000000</th>\n",
       "      <td>212.224420</td>\n",
       "    </tr>\n",
       "    <tr>\n",
       "      <th>192.259995</th>\n",
       "      <td>190.969385</td>\n",
       "    </tr>\n",
       "    <tr>\n",
       "      <th>234.740005</th>\n",
       "      <td>234.790662</td>\n",
       "    </tr>\n",
       "    <tr>\n",
       "      <th>227.000000</th>\n",
       "      <td>225.179708</td>\n",
       "    </tr>\n",
       "    <tr>\n",
       "      <th>189.919998</th>\n",
       "      <td>188.442708</td>\n",
       "    </tr>\n",
       "    <tr>\n",
       "      <th>225.860001</th>\n",
       "      <td>228.563667</td>\n",
       "    </tr>\n",
       "    <tr>\n",
       "      <th>186.679993</th>\n",
       "      <td>188.365852</td>\n",
       "    </tr>\n",
       "    <tr>\n",
       "      <th>220.899994</th>\n",
       "      <td>224.169865</td>\n",
       "    </tr>\n",
       "  </tbody>\n",
       "</table>\n",
       "</div>"
      ],
      "text/plain": [
       "                     0\n",
       "High                  \n",
       "227.770004  229.301422\n",
       "222.179993  222.564504\n",
       "216.649994  220.300726\n",
       "211.000000  212.224420\n",
       "192.259995  190.969385\n",
       "234.740005  234.790662\n",
       "227.000000  225.179708\n",
       "189.919998  188.442708\n",
       "225.860001  228.563667\n",
       "186.679993  188.365852\n",
       "220.899994  224.169865"
      ]
     },
     "execution_count": 50,
     "metadata": {},
     "output_type": "execute_result"
    }
   ],
   "source": [
    "pd.DataFrame(Y_predicted, Y_test)"
   ]
  },
  {
   "cell_type": "code",
   "execution_count": 35,
   "metadata": {},
   "outputs": [],
   "source": [
    "def predictor(data):\n",
    "    data = \n",
    "    from sklearn.model_selection import train_test_split\n",
    "    from sklearn import linear_model\n",
    "\n",
    "    X = d[[\"sentiment\", \"sentiment_test\", \"Open\"]]\n",
    "    Y = d[\"Close\"]\n",
    "    X_train, X_test, Y_train, Y_test = train_test_split(X, Y, test_size = 0.3, random_state = 69)\n",
    "\n",
    "    def mse(v1, v2):\n",
    "        return np.sum((v1 - v2) ** 2) \n",
    "    \n",
    "    model = linear_model.LinearRegression()\n",
    "    model.fit(X_train, Y_train)\n",
    "    Y_predicted = model.predict(X_test)\n",
    "    error = mse(Y_predicted, Y_test)\n",
    "    print(\"Error was {0}\".format(error))"
   ]
  },
  {
   "cell_type": "code",
   "execution_count": 41,
   "metadata": {},
   "outputs": [
    {
     "data": {
      "text/html": [
       "<div>\n",
       "<style scoped>\n",
       "    .dataframe tbody tr th:only-of-type {\n",
       "        vertical-align: middle;\n",
       "    }\n",
       "\n",
       "    .dataframe tbody tr th {\n",
       "        vertical-align: top;\n",
       "    }\n",
       "\n",
       "    .dataframe thead th {\n",
       "        text-align: right;\n",
       "    }\n",
       "</style>\n",
       "<table border=\"1\" class=\"dataframe\">\n",
       "  <thead>\n",
       "    <tr style=\"text-align: right;\">\n",
       "      <th></th>\n",
       "      <th>Unnamed: 0</th>\n",
       "      <th>Open</th>\n",
       "      <th>High</th>\n",
       "      <th>Low</th>\n",
       "      <th>Close</th>\n",
       "      <th>Adj Close</th>\n",
       "      <th>Volume</th>\n",
       "      <th>Start</th>\n",
       "      <th>End</th>\n",
       "      <th>JSON</th>\n",
       "      <th>corpus</th>\n",
       "      <th>vectorized</th>\n",
       "      <th>sentiment</th>\n",
       "      <th>sentiment_test</th>\n",
       "    </tr>\n",
       "  </thead>\n",
       "  <tbody>\n",
       "    <tr>\n",
       "      <th>0</th>\n",
       "      <td>0</td>\n",
       "      <td>191.199997</td>\n",
       "      <td>195.000000</td>\n",
       "      <td>187.850006</td>\n",
       "      <td>188.699997</td>\n",
       "      <td>188.699997</td>\n",
       "      <td>10312900</td>\n",
       "      <td>2019-05-28</td>\n",
       "      <td>2019-06-03</td>\n",
       "      <td>[{'crawlDate': '2019-06-03T00:23:42.153852Z', ...</td>\n",
       "      <td>Tesla likely to build Model Y at California pl...</td>\n",
       "      <td>['Tesla likely to build Model Y at California ...</td>\n",
       "      <td>0.091818</td>\n",
       "      <td>0.089958</td>\n",
       "    </tr>\n",
       "    <tr>\n",
       "      <th>1</th>\n",
       "      <td>1</td>\n",
       "      <td>187.100006</td>\n",
       "      <td>192.389999</td>\n",
       "      <td>185.039993</td>\n",
       "      <td>189.860001</td>\n",
       "      <td>189.860001</td>\n",
       "      <td>11968600</td>\n",
       "      <td>2019-05-29</td>\n",
       "      <td>2019-06-04</td>\n",
       "      <td>[{'crawlDate': '2019-06-04T01:36:47.939742Z', ...</td>\n",
       "      <td>UPDATE 1-Australia's Clean Teq begins search f...</td>\n",
       "      <td>[\"UPDATE 1-Australia's Clean Teq begins search...</td>\n",
       "      <td>0.083808</td>\n",
       "      <td>0.078232</td>\n",
       "    </tr>\n",
       "    <tr>\n",
       "      <th>2</th>\n",
       "      <td>2</td>\n",
       "      <td>188.750000</td>\n",
       "      <td>192.259995</td>\n",
       "      <td>187.020004</td>\n",
       "      <td>188.220001</td>\n",
       "      <td>188.220001</td>\n",
       "      <td>7926500</td>\n",
       "      <td>2019-05-30</td>\n",
       "      <td>2019-06-05</td>\n",
       "      <td>[{'crawlDate': '2019-06-04T23:36:31.276963Z', ...</td>\n",
       "      <td>Bullish Uber Analyst Isn’t Worried that Tesla ...</td>\n",
       "      <td>['Bullish Uber Analyst Isn’t Worried that Tesl...</td>\n",
       "      <td>0.090814</td>\n",
       "      <td>0.059442</td>\n",
       "    </tr>\n",
       "    <tr>\n",
       "      <th>3</th>\n",
       "      <td>3</td>\n",
       "      <td>185.100006</td>\n",
       "      <td>189.919998</td>\n",
       "      <td>184.100006</td>\n",
       "      <td>185.160004</td>\n",
       "      <td>185.160004</td>\n",
       "      <td>10406700</td>\n",
       "      <td>2019-05-31</td>\n",
       "      <td>2019-06-06</td>\n",
       "      <td>[{'crawlDate': '2019-06-05T21:38:25.965970Z', ...</td>\n",
       "      <td>Tesla's European Demand Problems Offer a Stark...</td>\n",
       "      <td>[\"Tesla's European Demand Problems Offer a Sta...</td>\n",
       "      <td>0.104620</td>\n",
       "      <td>0.069325</td>\n",
       "    </tr>\n",
       "    <tr>\n",
       "      <th>4</th>\n",
       "      <td>4</td>\n",
       "      <td>185.509995</td>\n",
       "      <td>186.679993</td>\n",
       "      <td>176.990005</td>\n",
       "      <td>178.970001</td>\n",
       "      <td>178.970001</td>\n",
       "      <td>13064400</td>\n",
       "      <td>2019-06-03</td>\n",
       "      <td>2019-06-09</td>\n",
       "      <td>[{'crawlDate': '2019-06-09T00:22:46.167832Z', ...</td>\n",
       "      <td>Tesla \"Party Mode\" Coming Soon, Spotted By Hac...</td>\n",
       "      <td>['Tesla \"Party Mode\" Coming Soon, Spotted By H...</td>\n",
       "      <td>0.130079</td>\n",
       "      <td>0.138233</td>\n",
       "    </tr>\n",
       "  </tbody>\n",
       "</table>\n",
       "</div>"
      ],
      "text/plain": [
       "   Unnamed: 0        Open        High         Low       Close   Adj Close  \\\n",
       "0           0  191.199997  195.000000  187.850006  188.699997  188.699997   \n",
       "1           1  187.100006  192.389999  185.039993  189.860001  189.860001   \n",
       "2           2  188.750000  192.259995  187.020004  188.220001  188.220001   \n",
       "3           3  185.100006  189.919998  184.100006  185.160004  185.160004   \n",
       "4           4  185.509995  186.679993  176.990005  178.970001  178.970001   \n",
       "\n",
       "     Volume       Start         End  \\\n",
       "0  10312900  2019-05-28  2019-06-03   \n",
       "1  11968600  2019-05-29  2019-06-04   \n",
       "2   7926500  2019-05-30  2019-06-05   \n",
       "3  10406700  2019-05-31  2019-06-06   \n",
       "4  13064400  2019-06-03  2019-06-09   \n",
       "\n",
       "                                                JSON  \\\n",
       "0  [{'crawlDate': '2019-06-03T00:23:42.153852Z', ...   \n",
       "1  [{'crawlDate': '2019-06-04T01:36:47.939742Z', ...   \n",
       "2  [{'crawlDate': '2019-06-04T23:36:31.276963Z', ...   \n",
       "3  [{'crawlDate': '2019-06-05T21:38:25.965970Z', ...   \n",
       "4  [{'crawlDate': '2019-06-09T00:22:46.167832Z', ...   \n",
       "\n",
       "                                              corpus  \\\n",
       "0  Tesla likely to build Model Y at California pl...   \n",
       "1  UPDATE 1-Australia's Clean Teq begins search f...   \n",
       "2  Bullish Uber Analyst Isn’t Worried that Tesla ...   \n",
       "3  Tesla's European Demand Problems Offer a Stark...   \n",
       "4  Tesla \"Party Mode\" Coming Soon, Spotted By Hac...   \n",
       "\n",
       "                                          vectorized  sentiment  \\\n",
       "0  ['Tesla likely to build Model Y at California ...   0.091818   \n",
       "1  [\"UPDATE 1-Australia's Clean Teq begins search...   0.083808   \n",
       "2  ['Bullish Uber Analyst Isn’t Worried that Tesl...   0.090814   \n",
       "3  [\"Tesla's European Demand Problems Offer a Sta...   0.104620   \n",
       "4  ['Tesla \"Party Mode\" Coming Soon, Spotted By H...   0.130079   \n",
       "\n",
       "   sentiment_test  \n",
       "0        0.089958  \n",
       "1        0.078232  \n",
       "2        0.059442  \n",
       "3        0.069325  \n",
       "4        0.138233  "
      ]
     },
     "execution_count": 41,
     "metadata": {},
     "output_type": "execute_result"
    }
   ],
   "source": [
    "d = pd.read_csv(\"TSLA_vector.csv\")\n",
    "d.head()"
   ]
  },
  {
   "cell_type": "code",
   "execution_count": 42,
   "metadata": {},
   "outputs": [
    {
     "name": "stdout",
     "output_type": "stream",
     "text": [
      "Error was 404.024380296339\n"
     ]
    }
   ],
   "source": [
    "predictor(d)"
   ]
  },
  {
   "cell_type": "code",
   "execution_count": null,
   "metadata": {},
   "outputs": [],
   "source": []
  }
 ],
 "metadata": {
  "kernelspec": {
   "display_name": "Python 3",
   "language": "python",
   "name": "python3"
  },
  "language_info": {
   "codemirror_mode": {
    "name": "ipython",
    "version": 3
   },
   "file_extension": ".py",
   "mimetype": "text/x-python",
   "name": "python",
   "nbconvert_exporter": "python",
   "pygments_lexer": "ipython3",
   "version": "3.7.2"
  }
 },
 "nbformat": 4,
 "nbformat_minor": 2
}
